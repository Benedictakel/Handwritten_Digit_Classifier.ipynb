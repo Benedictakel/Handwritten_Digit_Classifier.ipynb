{
  "nbformat": 4,
  "nbformat_minor": 0,
  "metadata": {
    "colab": {
      "provenance": [],
      "authorship_tag": "ABX9TyNWpM87PrUOwUSqKfYu+qes",
      "include_colab_link": true
    },
    "kernelspec": {
      "name": "python3",
      "display_name": "Python 3"
    },
    "language_info": {
      "name": "python"
    }
  },
  "cells": [
    {
      "cell_type": "markdown",
      "metadata": {
        "id": "view-in-github",
        "colab_type": "text"
      },
      "source": [
        "<a href=\"https://colab.research.google.com/github/Benedictakel/Handwritten_Digit_Classifier.ipynb/blob/main/Handwritten_Digit_Classifier.ipynb\" target=\"_parent\"><img src=\"https://colab.research.google.com/assets/colab-badge.svg\" alt=\"Open In Colab\"/></a>"
      ]
    },
    {
      "cell_type": "markdown",
      "source": [
        "Colab setup"
      ],
      "metadata": {
        "id": "6F7Ug_dvk2Zo"
      }
    },
    {
      "cell_type": "code",
      "execution_count": null,
      "metadata": {
        "id": "vvylQgidilzf"
      },
      "outputs": [],
      "source": [
        "!pip install -q tensorflow"
      ]
    },
    {
      "cell_type": "code",
      "source": [
        "import tensorflow as tf\n",
        "from tensorflow.keras import layers, models"
      ],
      "metadata": {
        "id": "SOns8itxjozm"
      },
      "execution_count": null,
      "outputs": []
    },
    {
      "cell_type": "markdown",
      "source": [
        "1. Load & preprocess"
      ],
      "metadata": {
        "id": "6nlgre8bkulQ"
      }
    },
    {
      "cell_type": "code",
      "source": [
        "(x_train, y_train), (x_test, y_test) = tf.keras.datasets.mnist.load_data()\n",
        "x_train = x_train[..., None] / 255.0\n",
        "x_test  = x_test[..., None]  / 255.0"
      ],
      "metadata": {
        "colab": {
          "base_uri": "https://localhost:8080/"
        },
        "id": "P_rM1UQWjsfq",
        "outputId": "581acf1a-af9b-4f0d-f542-45afd5e71f88"
      },
      "execution_count": null,
      "outputs": [
        {
          "output_type": "stream",
          "name": "stdout",
          "text": [
            "Downloading data from https://storage.googleapis.com/tensorflow/tf-keras-datasets/mnist.npz\n",
            "\u001b[1m11490434/11490434\u001b[0m \u001b[32m━━━━━━━━━━━━━━━━━━━━\u001b[0m\u001b[37m\u001b[0m \u001b[1m0s\u001b[0m 0us/step\n"
          ]
        }
      ]
    },
    {
      "cell_type": "markdown",
      "source": [
        "2. Build model"
      ],
      "metadata": {
        "id": "75H30rFGkpFY"
      }
    },
    {
      "cell_type": "code",
      "source": [
        "model = models.Sequential([\n",
        "    layers.Conv2D(32,3,activation='relu', input_shape=(28,28,1)),\n",
        "    layers.MaxPool2D(),\n",
        "    layers.Conv2D(64,3,activation='relu'),\n",
        "    layers.MaxPool2D(),\n",
        "    layers.Flatten(),\n",
        "    layers.Dense(128, activation='relu'),\n",
        "    layers.Dense(10, activation='softmax'),\n",
        "])\n",
        "\n",
        "model.compile(optimizer='adam',\n",
        "              loss='sparse_categorical_crossentropy',\n",
        "              metrics=['accuracy'])"
      ],
      "metadata": {
        "colab": {
          "base_uri": "https://localhost:8080/"
        },
        "id": "THPQArz5jzCH",
        "outputId": "b3a3ba2c-ed56-4e2e-f932-6aba2ef93a7a"
      },
      "execution_count": null,
      "outputs": [
        {
          "output_type": "stream",
          "name": "stderr",
          "text": [
            "/usr/local/lib/python3.11/dist-packages/keras/src/layers/convolutional/base_conv.py:107: UserWarning: Do not pass an `input_shape`/`input_dim` argument to a layer. When using Sequential models, prefer using an `Input(shape)` object as the first layer in the model instead.\n",
            "  super().__init__(activity_regularizer=activity_regularizer, **kwargs)\n"
          ]
        }
      ]
    },
    {
      "cell_type": "markdown",
      "source": [
        "3. Train"
      ],
      "metadata": {
        "id": "RFg-iZs_kmAb"
      }
    },
    {
      "cell_type": "code",
      "source": [
        "model.fit(x_train, y_train, epochs=3, validation_split=0.1)"
      ],
      "metadata": {
        "colab": {
          "base_uri": "https://localhost:8080/"
        },
        "id": "aB_tW0FpkBuM",
        "outputId": "25284c35-00be-4202-9ae8-4e1535c78662"
      },
      "execution_count": null,
      "outputs": [
        {
          "output_type": "stream",
          "name": "stdout",
          "text": [
            "Epoch 1/3\n",
            "\u001b[1m1688/1688\u001b[0m \u001b[32m━━━━━━━━━━━━━━━━━━━━\u001b[0m\u001b[37m\u001b[0m \u001b[1m55s\u001b[0m 31ms/step - accuracy: 0.9039 - loss: 0.3101 - val_accuracy: 0.9885 - val_loss: 0.0429\n",
            "Epoch 2/3\n",
            "\u001b[1m1688/1688\u001b[0m \u001b[32m━━━━━━━━━━━━━━━━━━━━\u001b[0m\u001b[37m\u001b[0m \u001b[1m80s\u001b[0m 30ms/step - accuracy: 0.9867 - loss: 0.0441 - val_accuracy: 0.9897 - val_loss: 0.0382\n",
            "Epoch 3/3\n",
            "\u001b[1m1688/1688\u001b[0m \u001b[32m━━━━━━━━━━━━━━━━━━━━\u001b[0m\u001b[37m\u001b[0m \u001b[1m86s\u001b[0m 33ms/step - accuracy: 0.9911 - loss: 0.0273 - val_accuracy: 0.9893 - val_loss: 0.0333\n"
          ]
        },
        {
          "output_type": "execute_result",
          "data": {
            "text/plain": [
              "<keras.src.callbacks.history.History at 0x7a0051d7f010>"
            ]
          },
          "metadata": {},
          "execution_count": 5
        }
      ]
    },
    {
      "cell_type": "markdown",
      "source": [
        "4. Evaluate"
      ],
      "metadata": {
        "id": "Z8ODUb-7khJ8"
      }
    },
    {
      "cell_type": "code",
      "source": [
        "print(\"Test acc:\", model.evaluate(x_test, y_test)[1])"
      ],
      "metadata": {
        "id": "SiXHD28ikVMZ",
        "colab": {
          "base_uri": "https://localhost:8080/"
        },
        "outputId": "33ae8582-4b9b-4022-8024-b9151f249c62"
      },
      "execution_count": null,
      "outputs": [
        {
          "output_type": "stream",
          "name": "stdout",
          "text": [
            "\u001b[1m313/313\u001b[0m \u001b[32m━━━━━━━━━━━━━━━━━━━━\u001b[0m\u001b[37m\u001b[0m \u001b[1m3s\u001b[0m 9ms/step - accuracy: 0.9881 - loss: 0.0332\n",
            "Test acc: 0.9905999898910522\n"
          ]
        }
      ]
    },
    {
      "cell_type": "markdown",
      "source": [
        "5. Export TFLite"
      ],
      "metadata": {
        "id": "keM6lR36kc_u"
      }
    },
    {
      "cell_type": "code",
      "source": [
        "converter = tf.lite.TFLiteConverter.from_keras_model(model)\n",
        "tflite_model = converter.convert()\n",
        "open('mnist.tflite','wb').write(tflite_model)\n",
        "print(\"Saved mnist.tflite\")"
      ],
      "metadata": {
        "id": "7y7_PWrqkYt2",
        "colab": {
          "base_uri": "https://localhost:8080/"
        },
        "outputId": "7922529c-c04c-407d-80cf-04122f22109a"
      },
      "execution_count": null,
      "outputs": [
        {
          "output_type": "stream",
          "name": "stdout",
          "text": [
            "Saved artifact at '/tmp/tmp3mlm2eyb'. The following endpoints are available:\n",
            "\n",
            "* Endpoint 'serve'\n",
            "  args_0 (POSITIONAL_ONLY): TensorSpec(shape=(None, 28, 28, 1), dtype=tf.float32, name='keras_tensor')\n",
            "Output Type:\n",
            "  TensorSpec(shape=(None, 10), dtype=tf.float32, name=None)\n",
            "Captures:\n",
            "  134141798065232: TensorSpec(shape=(), dtype=tf.resource, name=None)\n",
            "  134141798066384: TensorSpec(shape=(), dtype=tf.resource, name=None)\n",
            "  134141798066768: TensorSpec(shape=(), dtype=tf.resource, name=None)\n",
            "  134141798065808: TensorSpec(shape=(), dtype=tf.resource, name=None)\n",
            "  134141798065424: TensorSpec(shape=(), dtype=tf.resource, name=None)\n",
            "  134141798066960: TensorSpec(shape=(), dtype=tf.resource, name=None)\n",
            "  134141798059664: TensorSpec(shape=(), dtype=tf.resource, name=None)\n",
            "  134141798065616: TensorSpec(shape=(), dtype=tf.resource, name=None)\n",
            "Saved mnist.tflite\n"
          ]
        }
      ]
    }
  ]
}